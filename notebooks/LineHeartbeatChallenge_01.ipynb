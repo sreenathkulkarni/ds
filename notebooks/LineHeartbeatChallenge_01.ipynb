{
 "cells": [
  {
   "cell_type": "markdown",
   "id": "5e246a6c-fc80-4dc6-90ce-915bc0c41005",
   "metadata": {},
   "source": [
    "# Line Setup Changeover Detection Challenge\n",
    "\n",
    "This exercise is designed to give you a chance to see the kind of work that you would be doing as an Applications Engineer at Arch.  You've been given a synthesized dataset that corresponds to data over several days from electronics assembly machines called \"Pick and Place\" machines.  The synthetic data you've been given is designed to mimic the data that is produced by ASM P&P Machine.\n",
    "\n",
    "For context, in a factory of SMT lines, there are an arbitrary number of Pick and Place machines that are in a sequential line. Each machine is assigned a Station ID. There are some times where a customer may move a machine to a diferent location. \n",
    "\n",
    "As part of the ASM protocol, the machines are all produce heartbeats that determines what machines are online.\n",
    "\n",
    "If you want you can read more about ASM PNP machines, [on their website](https://www.asm-smt.com/en/).  **Note:** There is no need to be familiar with this specific brand of P&P machine, or even P&P machines in general.  The link was just provided in case you're interested in learning more.\n",
    "\n",
    "## Goal\n",
    "\n",
    "The goal of this challenge is to query the provided SQL database, which is running in docker using Apache Drill to determine:\n",
    "\n",
    "- The current machines assigned for each line\n",
    "- Which machine is no longer assigned\n",
    "- Which machine replace the unused machine.\n",
    "\n",
    "\n",
    "### Expected Outcome and How To Return Your Solution\n",
    "\n",
    "The expected outcome is that this Jupyter notebook is filled in with **working python code** that:\n",
    "\n",
    "- gets the required data from the parquet file into a Pandas DataFrame\n",
    "- operates on the Pandas DataFrame to extract the needed information\n",
    "- prints the solution.\n",
    "\n",
    "Once you've completed the notebook, render it as HTML so it can be viewed easily and return **both the html rendered notebook and the .ipynb notebook file itself** in a zip folder by email.  The notebook should have both the inputs and output cells visible so its clear what commands you ran and what the result was."
   ]
  },
  {
   "cell_type": "code",
   "execution_count": 1,
   "id": "074ff828-e2fc-444c-b7f9-9c3a65679570",
   "metadata": {},
   "outputs": [],
   "source": [
    "import pandas as pd"
   ]
  },
  {
   "cell_type": "markdown",
   "id": "49b1c247-9df4-4912-80a9-4d551aab3130",
   "metadata": {},
   "source": [
    "## Configurable Settings\n",
    "\n",
    "Enter the path to where you saved the parquet data file here.  The following cells validate that the data was loaded correctly.  You should see 129948 rows.\n"
   ]
  },
  {
   "cell_type": "code",
   "execution_count": 4,
   "id": "2c1fe6c4-c350-4318-8619-c16115d5c9bc",
   "metadata": {},
   "outputs": [],
   "source": [
    "DATAFILE_PATH = 'datasets/factory_asm_1week_acme_2022_11_07.snappy.parquet'\n",
    "raw_data = pd.read_parquet(DATAFILE_PATH)"
   ]
  },
  {
   "cell_type": "code",
   "execution_count": 5,
   "id": "640b074f-6f31-478d-a21c-cd5da91bba34",
   "metadata": {},
   "outputs": [
    {
     "data": {
      "text/plain": [
       "monitoringservicesendtime    2022-11-06T16:32:35.3242268Z\n",
       "linefullpath                                System\\LINE_5\n",
       "linename                                           LINE_5\n",
       "machineid                                         16067.0\n",
       "stationfullpath                    System\\LINE5\\O5M1_X4is\n",
       "stationid                                           16067\n",
       "stationname                                     O5M1_X4is\n",
       "stationorder                                            1\n",
       "typename                                    SIPLACE X4i S\n",
       "Name: 0, dtype: object"
      ]
     },
     "execution_count": 5,
     "metadata": {},
     "output_type": "execute_result"
    }
   ],
   "source": [
    "raw_data.iloc[0].T"
   ]
  },
  {
   "cell_type": "code",
   "execution_count": 167,
   "id": "1ab1fdc3-265a-4802-841a-3dc11376c59d",
   "metadata": {},
   "outputs": [
    {
     "data": {
      "text/plain": [
       "129948"
      ]
     },
     "execution_count": 167,
     "metadata": {},
     "output_type": "execute_result"
    }
   ],
   "source": [
    "len(raw_data)"
   ]
  },
  {
   "cell_type": "markdown",
   "id": "8ef1e323-27c5-4340-aff6-40d4f0b75198",
   "metadata": {
    "tags": []
   },
   "source": [
    "# Your Solution\n",
    "\n",
    "Please **fill in your solution** below in the next cell, leaving any cells that are relevant to understanding how you calculated your result.  The final cell should be a printed Pandas DataFrame as shown in the example.\n",
    "\n",
    "## Understanding the Data\n",
    "\n",
    "Everything you need to know in order to solve this challenge can be found in the data itself or the hints and links provided in this description.\n",
    "\n",
    "\n",
    "\n",
    "The dataset you have been given is structured as follows:\n",
    "\n",
    "- each row is a heartbeat eventlog produced by each machine every 5 minutes.  \n",
    "- There are multiple machines per line.\n",
    "- each row is a complex nested object containing rich data on how this machine is configured\n",
    "- some of the information is not needed.  However, there are a few key data fields inside the array that are relevant:\n",
    "   - `monitoringservicesendtime`: The ISO8601 timestamp as a string of when this machine finished producing this board\n",
    "   - `linefullpath`: a stable identifier for the factory line that contains the machine that generated this data\n",
    "   - `linename`: abbreviated name for the line\n",
    "   - `stationfullpath`: a stable identifier (globally unique) for the specific machine that generated this data\n",
    "   - `stationname`: abbreviated name for the machine\n",
    "   - `stationid`: serial number assosciated with the machine\n",
    "   - `stationorder`: which order the machine lies in the line."
   ]
  },
  {
   "cell_type": "code",
   "execution_count": 168,
   "id": "e2fa5b73-58c5-4903-99db-510ede062ab2",
   "metadata": {},
   "outputs": [],
   "source": [
    "## Fill in your implementation here."
   ]
  },
  {
   "cell_type": "code",
   "execution_count": 10,
   "id": "4ee61539",
   "metadata": {},
   "outputs": [
    {
     "data": {
      "text/html": [
       "<div>\n",
       "<style scoped>\n",
       "    .dataframe tbody tr th:only-of-type {\n",
       "        vertical-align: middle;\n",
       "    }\n",
       "\n",
       "    .dataframe tbody tr th {\n",
       "        vertical-align: top;\n",
       "    }\n",
       "\n",
       "    .dataframe thead th {\n",
       "        text-align: right;\n",
       "    }\n",
       "</style>\n",
       "<table border=\"1\" class=\"dataframe\">\n",
       "  <thead>\n",
       "    <tr style=\"text-align: right;\">\n",
       "      <th></th>\n",
       "      <th>monitoringservicesendtime</th>\n",
       "      <th>linefullpath</th>\n",
       "      <th>linename</th>\n",
       "      <th>machineid</th>\n",
       "      <th>stationfullpath</th>\n",
       "      <th>stationid</th>\n",
       "      <th>stationname</th>\n",
       "      <th>stationorder</th>\n",
       "      <th>typename</th>\n",
       "    </tr>\n",
       "  </thead>\n",
       "  <tbody>\n",
       "    <tr>\n",
       "      <th>0</th>\n",
       "      <td>2022-11-06T16:32:35.3242268Z</td>\n",
       "      <td>System\\LINE_5</td>\n",
       "      <td>LINE_5</td>\n",
       "      <td>16067.0</td>\n",
       "      <td>System\\LINE5\\O5M1_X4is</td>\n",
       "      <td>16067</td>\n",
       "      <td>O5M1_X4is</td>\n",
       "      <td>1</td>\n",
       "      <td>SIPLACE X4i S</td>\n",
       "    </tr>\n",
       "    <tr>\n",
       "      <th>1</th>\n",
       "      <td>2022-11-06T16:32:35.3242268Z</td>\n",
       "      <td>System\\LINE_5</td>\n",
       "      <td>LINE_5</td>\n",
       "      <td>10000068.0</td>\n",
       "      <td>System\\LINE5\\O5M2_D4</td>\n",
       "      <td>10000068</td>\n",
       "      <td>O5M2_D4</td>\n",
       "      <td>2</td>\n",
       "      <td>SIPLACE D4</td>\n",
       "    </tr>\n",
       "    <tr>\n",
       "      <th>2</th>\n",
       "      <td>2022-11-06T16:32:35.3242268Z</td>\n",
       "      <td>System\\LINE_5</td>\n",
       "      <td>LINE_5</td>\n",
       "      <td>13942.0</td>\n",
       "      <td>System\\LINE5\\O5M3_X4is</td>\n",
       "      <td>13942</td>\n",
       "      <td>O5M3_X4is</td>\n",
       "      <td>3</td>\n",
       "      <td>SIPLACE X4i S</td>\n",
       "    </tr>\n",
       "    <tr>\n",
       "      <th>3</th>\n",
       "      <td>2022-11-06T16:32:35.3242268Z</td>\n",
       "      <td>System\\LINE_5</td>\n",
       "      <td>LINE_5</td>\n",
       "      <td>26.0</td>\n",
       "      <td>System\\LINE5\\O5M4_D1</td>\n",
       "      <td>26</td>\n",
       "      <td>O5M4_D1</td>\n",
       "      <td>4</td>\n",
       "      <td>SIPLACE D1</td>\n",
       "    </tr>\n",
       "    <tr>\n",
       "      <th>4</th>\n",
       "      <td>2022-11-06T16:32:35.3242268Z</td>\n",
       "      <td>System\\LINE_8</td>\n",
       "      <td>LINE_8</td>\n",
       "      <td>4885.0</td>\n",
       "      <td>System\\LINE8\\O8M1_X4</td>\n",
       "      <td>4885</td>\n",
       "      <td>O8M1_X4</td>\n",
       "      <td>1</td>\n",
       "      <td>SIPLACE X4</td>\n",
       "    </tr>\n",
       "    <tr>\n",
       "      <th>...</th>\n",
       "      <td>...</td>\n",
       "      <td>...</td>\n",
       "      <td>...</td>\n",
       "      <td>...</td>\n",
       "      <td>...</td>\n",
       "      <td>...</td>\n",
       "      <td>...</td>\n",
       "      <td>...</td>\n",
       "      <td>...</td>\n",
       "    </tr>\n",
       "    <tr>\n",
       "      <th>129943</th>\n",
       "      <td>2022-11-12T06:26:01.6368476Z</td>\n",
       "      <td>System\\LINE_2</td>\n",
       "      <td>LINE_2</td>\n",
       "      <td>202.0</td>\n",
       "      <td>System\\LINE2\\O2M1_D4</td>\n",
       "      <td>202</td>\n",
       "      <td>O2M1_D4</td>\n",
       "      <td>1</td>\n",
       "      <td>SIPLACE D4</td>\n",
       "    </tr>\n",
       "    <tr>\n",
       "      <th>129944</th>\n",
       "      <td>2022-11-12T06:26:01.6368476Z</td>\n",
       "      <td>System\\LINE_2</td>\n",
       "      <td>LINE_2</td>\n",
       "      <td>2560.0</td>\n",
       "      <td>System\\LINE2\\O2M2_D1</td>\n",
       "      <td>2560</td>\n",
       "      <td>O2M2_D1</td>\n",
       "      <td>2</td>\n",
       "      <td>SIPLACE D1</td>\n",
       "    </tr>\n",
       "    <tr>\n",
       "      <th>129945</th>\n",
       "      <td>2022-11-12T06:26:01.6368476Z</td>\n",
       "      <td>System\\LINE_2</td>\n",
       "      <td>LINE_2</td>\n",
       "      <td>10002712.0</td>\n",
       "      <td>System\\LINE2\\O2M3_D1</td>\n",
       "      <td>10002712</td>\n",
       "      <td>O2M3_D1</td>\n",
       "      <td>3</td>\n",
       "      <td>SIPLACE D1</td>\n",
       "    </tr>\n",
       "    <tr>\n",
       "      <th>129946</th>\n",
       "      <td>2022-11-12T06:26:01.6368476Z</td>\n",
       "      <td>System\\LINE_4</td>\n",
       "      <td>LINE_4</td>\n",
       "      <td>5899.0</td>\n",
       "      <td>System\\LINE4\\O4M1_X4i</td>\n",
       "      <td>5899</td>\n",
       "      <td>O4M1_X4i</td>\n",
       "      <td>1</td>\n",
       "      <td>SIPLACE X4I</td>\n",
       "    </tr>\n",
       "    <tr>\n",
       "      <th>129947</th>\n",
       "      <td>2022-11-12T06:26:01.6368476Z</td>\n",
       "      <td>System\\LINE_4</td>\n",
       "      <td>LINE_4</td>\n",
       "      <td>2651.0</td>\n",
       "      <td>System\\LINE4\\O4M2_X4</td>\n",
       "      <td>2651</td>\n",
       "      <td>O4M2_X4</td>\n",
       "      <td>2</td>\n",
       "      <td>SIPLACE X4</td>\n",
       "    </tr>\n",
       "  </tbody>\n",
       "</table>\n",
       "<p>129948 rows × 9 columns</p>\n",
       "</div>"
      ],
      "text/plain": [
       "           monitoringservicesendtime   linefullpath linename   machineid   \n",
       "0       2022-11-06T16:32:35.3242268Z  System\\LINE_5   LINE_5     16067.0  \\\n",
       "1       2022-11-06T16:32:35.3242268Z  System\\LINE_5   LINE_5  10000068.0   \n",
       "2       2022-11-06T16:32:35.3242268Z  System\\LINE_5   LINE_5     13942.0   \n",
       "3       2022-11-06T16:32:35.3242268Z  System\\LINE_5   LINE_5        26.0   \n",
       "4       2022-11-06T16:32:35.3242268Z  System\\LINE_8   LINE_8      4885.0   \n",
       "...                              ...            ...      ...         ...   \n",
       "129943  2022-11-12T06:26:01.6368476Z  System\\LINE_2   LINE_2       202.0   \n",
       "129944  2022-11-12T06:26:01.6368476Z  System\\LINE_2   LINE_2      2560.0   \n",
       "129945  2022-11-12T06:26:01.6368476Z  System\\LINE_2   LINE_2  10002712.0   \n",
       "129946  2022-11-12T06:26:01.6368476Z  System\\LINE_4   LINE_4      5899.0   \n",
       "129947  2022-11-12T06:26:01.6368476Z  System\\LINE_4   LINE_4      2651.0   \n",
       "\n",
       "               stationfullpath  stationid stationname  stationorder   \n",
       "0       System\\LINE5\\O5M1_X4is      16067   O5M1_X4is             1  \\\n",
       "1         System\\LINE5\\O5M2_D4   10000068     O5M2_D4             2   \n",
       "2       System\\LINE5\\O5M3_X4is      13942   O5M3_X4is             3   \n",
       "3         System\\LINE5\\O5M4_D1         26     O5M4_D1             4   \n",
       "4         System\\LINE8\\O8M1_X4       4885     O8M1_X4             1   \n",
       "...                        ...        ...         ...           ...   \n",
       "129943    System\\LINE2\\O2M1_D4        202     O2M1_D4             1   \n",
       "129944    System\\LINE2\\O2M2_D1       2560     O2M2_D1             2   \n",
       "129945    System\\LINE2\\O2M3_D1   10002712     O2M3_D1             3   \n",
       "129946   System\\LINE4\\O4M1_X4i       5899    O4M1_X4i             1   \n",
       "129947    System\\LINE4\\O4M2_X4       2651     O4M2_X4             2   \n",
       "\n",
       "             typename  \n",
       "0       SIPLACE X4i S  \n",
       "1          SIPLACE D4  \n",
       "2       SIPLACE X4i S  \n",
       "3          SIPLACE D1  \n",
       "4          SIPLACE X4  \n",
       "...               ...  \n",
       "129943     SIPLACE D4  \n",
       "129944     SIPLACE D1  \n",
       "129945     SIPLACE D1  \n",
       "129946    SIPLACE X4I  \n",
       "129947     SIPLACE X4  \n",
       "\n",
       "[129948 rows x 9 columns]"
      ]
     },
     "execution_count": 10,
     "metadata": {},
     "output_type": "execute_result"
    }
   ],
   "source": [
    "raw_data"
   ]
  },
  {
   "cell_type": "code",
   "execution_count": 11,
   "id": "f12db6b2",
   "metadata": {},
   "outputs": [
    {
     "data": {
      "text/plain": [
       "monitoringservicesendtime       0\n",
       "linefullpath                    0\n",
       "linename                        0\n",
       "machineid                    1584\n",
       "stationfullpath                 0\n",
       "stationid                       0\n",
       "stationname                     0\n",
       "stationorder                    0\n",
       "typename                        0\n",
       "dtype: int64"
      ]
     },
     "execution_count": 11,
     "metadata": {},
     "output_type": "execute_result"
    }
   ],
   "source": [
    "raw_data.isnull().sum()"
   ]
  },
  {
   "cell_type": "code",
   "execution_count": null,
   "id": "9052481c",
   "metadata": {},
   "outputs": [],
   "source": []
  }
 ],
 "metadata": {
  "kernelspec": {
   "display_name": "Python 3 (ipykernel)",
   "language": "python",
   "name": "python3"
  },
  "language_info": {
   "codemirror_mode": {
    "name": "ipython",
    "version": 3
   },
   "file_extension": ".py",
   "mimetype": "text/x-python",
   "name": "python",
   "nbconvert_exporter": "python",
   "pygments_lexer": "ipython3",
   "version": "3.11.2"
  },
  "vscode": {
   "interpreter": {
    "hash": "0a2fb6e9e88945b5154c68ae52c362a472f16b7de7ff5aab86c572388c1743ff"
   }
  }
 },
 "nbformat": 4,
 "nbformat_minor": 5
}
