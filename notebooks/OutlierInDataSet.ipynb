{
 "cells": [
  {
   "cell_type": "code",
   "execution_count": 3,
   "id": "601765e0",
   "metadata": {},
   "outputs": [],
   "source": [
    "import numpy as np\n",
    "import matplotlib.pyplot as plt\n",
    "%matplotlib inline"
   ]
  },
  {
   "cell_type": "code",
   "execution_count": 4,
   "id": "3786ae0d",
   "metadata": {},
   "outputs": [
    {
     "data": {
      "text/plain": [
       "34"
      ]
     },
     "execution_count": 4,
     "metadata": {},
     "output_type": "execute_result"
    }
   ],
   "source": [
    "dataSet = [11,10,12,14,12,15,14,13,15,102,12,14,17,19,107,10,13,12,14,12,108,12,11,14,13,15,10,15,12,10,14,13,15,10]\n",
    "len(dataSet)"
   ]
  },
  {
   "cell_type": "code",
   "execution_count": 5,
   "id": "f3b3ca4d",
   "metadata": {},
   "outputs": [
    {
     "data": {
      "text/plain": [
       "21.176470588235293"
      ]
     },
     "execution_count": 5,
     "metadata": {},
     "output_type": "execute_result"
    }
   ],
   "source": [
    "np.mean(dataSet)"
   ]
  },
  {
   "cell_type": "code",
   "execution_count": 6,
   "id": "933c22f7",
   "metadata": {},
   "outputs": [
    {
     "data": {
      "text/plain": [
       "26.37230118696876"
      ]
     },
     "execution_count": 6,
     "metadata": {},
     "output_type": "execute_result"
    }
   ],
   "source": [
    "np.std(dataSet)"
   ]
  },
  {
   "cell_type": "code",
   "execution_count": 8,
   "id": "229b9b1b",
   "metadata": {},
   "outputs": [
    {
     "data": {
      "text/plain": [
       "13.0"
      ]
     },
     "execution_count": 8,
     "metadata": {},
     "output_type": "execute_result"
    }
   ],
   "source": [
    "np.median(dataSet)"
   ]
  },
  {
   "cell_type": "code",
   "execution_count": 9,
   "id": "b5717520",
   "metadata": {},
   "outputs": [],
   "source": [
    "outliers=[]\n",
    "def detect_outliers(data):\n",
    "    \n",
    "    threshold = 3\n",
    "    mean = np.mean(data)\n",
    "    std = np.std(data)\n",
    "    \n",
    "    for i in data:\n",
    "        z_score = (i - mean) / std\n",
    "        if np.abs(z_score) > threshold:\n",
    "            outliers.append(i)\n",
    "    return outliers"
   ]
  },
  {
   "cell_type": "code",
   "execution_count": 11,
   "id": "3e0df11e",
   "metadata": {},
   "outputs": [
    {
     "data": {
      "text/plain": [
       "[102, 107, 108]"
      ]
     },
     "execution_count": 11,
     "metadata": {},
     "output_type": "execute_result"
    }
   ],
   "source": [
    "outlier_pt = detect_outliers(dataSet)\n",
    "outlier_pt"
   ]
  },
  {
   "cell_type": "markdown",
   "id": "990a8798",
   "metadata": {},
   "source": [
    "# InterQuantile Range\n",
    "#### 75% - 25% values in dataset\n",
    "#### steps\n",
    "    1. Arrange the Data in increasing order\n",
    "    2. Calculate first quartile(q1) and third quartile(q3)\n",
    "    3. find interquantile range (q3-q1)\n",
    "    4. Findlower bound q1*1.5\n",
    "    5. Find upper bound q3*1.5\n",
    "    \n",
    "    Anything that lies outside lower & upper bound is an outlier"
   ]
  },
  {
   "cell_type": "code",
   "execution_count": 12,
   "id": "553855b9",
   "metadata": {},
   "outputs": [
    {
     "data": {
      "text/plain": [
       "[10,\n",
       " 10,\n",
       " 10,\n",
       " 10,\n",
       " 10,\n",
       " 11,\n",
       " 11,\n",
       " 12,\n",
       " 12,\n",
       " 12,\n",
       " 12,\n",
       " 12,\n",
       " 12,\n",
       " 12,\n",
       " 13,\n",
       " 13,\n",
       " 13,\n",
       " 13,\n",
       " 14,\n",
       " 14,\n",
       " 14,\n",
       " 14,\n",
       " 14,\n",
       " 14,\n",
       " 15,\n",
       " 15,\n",
       " 15,\n",
       " 15,\n",
       " 15,\n",
       " 17,\n",
       " 19,\n",
       " 102,\n",
       " 107,\n",
       " 108]"
      ]
     },
     "execution_count": 12,
     "metadata": {},
     "output_type": "execute_result"
    }
   ],
   "source": [
    "#step1\n",
    "sorted(dataSet)"
   ]
  },
  {
   "cell_type": "code",
   "execution_count": 13,
   "id": "4cc58907",
   "metadata": {},
   "outputs": [
    {
     "name": "stdout",
     "output_type": "stream",
     "text": [
      "12.0 15.0\n"
     ]
    }
   ],
   "source": [
    "#step 2\n",
    "q1, q3 = np.percentile(dataSet,[25,75])\n",
    "print(q1,q3)"
   ]
  },
  {
   "cell_type": "code",
   "execution_count": 14,
   "id": "b1a328bf",
   "metadata": {},
   "outputs": [
    {
     "name": "stdout",
     "output_type": "stream",
     "text": [
      "3.0\n"
     ]
    }
   ],
   "source": [
    "#step 3\n",
    "ivalue = q3-q1\n",
    "print(ivalue)"
   ]
  },
  {
   "cell_type": "code",
   "execution_count": 15,
   "id": "9f09545e",
   "metadata": {},
   "outputs": [
    {
     "name": "stdout",
     "output_type": "stream",
     "text": [
      "7.5 19.5\n"
     ]
    }
   ],
   "source": [
    "lbv = q1 - (1.5 * ivalue)\n",
    "obv = q3 + (1.5 * ivalue)\n",
    "print(lbv,obv)"
   ]
  },
  {
   "cell_type": "code",
   "execution_count": 18,
   "id": "f0c3fc4e",
   "metadata": {},
   "outputs": [
    {
     "data": {
      "text/plain": [
       "(array([ 9, 14, 20], dtype=int64),)"
      ]
     },
     "execution_count": 18,
     "metadata": {},
     "output_type": "execute_result"
    }
   ],
   "source": [
    "dataSet1 = np.where((dataSet < lbv) | (dataSet > obv))\n",
    "dataSet1"
   ]
  },
  {
   "cell_type": "code",
   "execution_count": null,
   "id": "ef175332",
   "metadata": {},
   "outputs": [],
   "source": []
  }
 ],
 "metadata": {
  "kernelspec": {
   "display_name": "Python 3 (ipykernel)",
   "language": "python",
   "name": "python3"
  },
  "language_info": {
   "codemirror_mode": {
    "name": "ipython",
    "version": 3
   },
   "file_extension": ".py",
   "mimetype": "text/x-python",
   "name": "python",
   "nbconvert_exporter": "python",
   "pygments_lexer": "ipython3",
   "version": "3.11.2"
  }
 },
 "nbformat": 4,
 "nbformat_minor": 5
}
