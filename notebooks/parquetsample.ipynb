{
 "cells": [
  {
   "cell_type": "code",
   "execution_count": 35,
   "id": "41fc69cd",
   "metadata": {},
   "outputs": [],
   "source": [
    "import numpy as np\n",
    "import pandas as pd\n",
    "import seaborn as sns\n",
    "import matplotlib.pyplot as plt"
   ]
  },
  {
   "cell_type": "code",
   "execution_count": 69,
   "id": "559a41f5",
   "metadata": {},
   "outputs": [],
   "source": [
    "parquet_file = r'D:\\Sreenath\\DSWorkspace\\Parquet\\userdata1.parquet'"
   ]
  },
  {
   "cell_type": "code",
   "execution_count": 71,
   "id": "fb738f7b",
   "metadata": {},
   "outputs": [],
   "source": [
    "df = pd.read_parquet(parquet_file, engine = 'auto')"
   ]
  },
  {
   "cell_type": "code",
   "execution_count": 72,
   "id": "c6ea91b5",
   "metadata": {},
   "outputs": [
    {
     "name": "stdout",
     "output_type": "stream",
     "text": [
      "<class 'pandas.core.frame.DataFrame'>\n",
      "RangeIndex: 1000 entries, 0 to 999\n",
      "Data columns (total 13 columns):\n",
      " #   Column             Non-Null Count  Dtype         \n",
      "---  ------             --------------  -----         \n",
      " 0   registration_dttm  1000 non-null   datetime64[ns]\n",
      " 1   id                 1000 non-null   int32         \n",
      " 2   first_name         1000 non-null   object        \n",
      " 3   last_name          1000 non-null   object        \n",
      " 4   email              1000 non-null   object        \n",
      " 5   gender             1000 non-null   object        \n",
      " 6   ip_address         1000 non-null   object        \n",
      " 7   cc                 1000 non-null   object        \n",
      " 8   country            1000 non-null   object        \n",
      " 9   birthdate          1000 non-null   object        \n",
      " 10  salary             932 non-null    float64       \n",
      " 11  title              1000 non-null   object        \n",
      " 12  comments           994 non-null    object        \n",
      "dtypes: datetime64[ns](1), float64(1), int32(1), object(10)\n",
      "memory usage: 97.8+ KB\n"
     ]
    }
   ],
   "source": [
    "df.info()"
   ]
  },
  {
   "cell_type": "code",
   "execution_count": 86,
   "id": "ce9e27b0",
   "metadata": {},
   "outputs": [
    {
     "data": {
      "text/plain": [
       "68"
      ]
     },
     "execution_count": 86,
     "metadata": {},
     "output_type": "execute_result"
    }
   ],
   "source": [
    "df['salary'].isnull().sum()\n",
    "#df['salary'].median()"
   ]
  },
  {
   "cell_type": "code",
   "execution_count": 74,
   "id": "92c67470",
   "metadata": {},
   "outputs": [
    {
     "data": {
      "text/plain": [
       "Text(0.5, 1.0, 'Comparision of avarage salary by male & female')"
      ]
     },
     "execution_count": 74,
     "metadata": {},
     "output_type": "execute_result"
    },
    {
     "data": {
      "image/png": "[encoded data removed]",
      "text/plain": [
       "<Figure size 640x480 with 1 Axes>"
      ]
     },
     "metadata": {},
     "output_type": "display_data"
    }
   ],
   "source": [
    "plt.bar(df['gender'], df['salary'])\n",
    "plt.xlabel('Gender')\n",
    "plt.ylabel('Salary')\n",
    "plt.title(\"Comparision of avarage salary by male & female\")"
   ]
  },
  {
   "cell_type": "code",
   "execution_count": 76,
   "id": "6eae7e74",
   "metadata": {},
   "outputs": [
    {
     "data": {
      "text/plain": [
       "Index(['registration_dttm', 'id', 'first_name', 'last_name', 'email', 'gender',\n",
       "       'ip_address', 'cc', 'country', 'birthdate', 'salary', 'title',\n",
       "       'comments'],\n",
       "      dtype='object')"
      ]
     },
     "execution_count": 76,
     "metadata": {},
     "output_type": "execute_result"
    }
   ],
   "source": [
    "df.columns"
   ]
  },
  {
   "cell_type": "code",
   "execution_count": 85,
   "id": "638acc6e",
   "metadata": {},
   "outputs": [
    {
     "data": {
      "text/plain": [
       "gender\n",
       "Female    482\n",
       "Male      451\n",
       "           67\n",
       "Name: count, dtype: int64"
      ]
     },
     "execution_count": 85,
     "metadata": {},
     "output_type": "execute_result"
    }
   ],
   "source": [
    "df['gender'].value_counts()"
   ]
  },
  {
   "cell_type": "code",
   "execution_count": null,
   "id": "7e303977",
   "metadata": {},
   "outputs": [],
   "source": []
  }
 ],
 "metadata": {
  "kernelspec": {
   "display_name": "Python 3 (ipykernel)",
   "language": "python",
   "name": "python3"
  },
  "language_info": {
   "codemirror_mode": {
    "name": "ipython",
    "version": 3
   },
   "file_extension": ".py",
   "mimetype": "text/x-python",
   "name": "python",
   "nbconvert_exporter": "python",
   "pygments_lexer": "ipython3",
   "version": "3.11.2"
  }
 },
 "nbformat": 4,
 "nbformat_minor": 5
}
